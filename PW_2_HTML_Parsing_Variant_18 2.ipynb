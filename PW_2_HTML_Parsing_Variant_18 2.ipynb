{
  "nbformat": 4,
  "nbformat_minor": 5,
  "metadata": {
    "kernelspec": {
      "name": "python3",
      "display_name": "Python 3"
    }
  },
  "cells": [
    {
      "cell_type": "markdown",
      "metadata": {},
      "source": [
        "# Практическая работа 2 — Вариант 18 (HTML + BeautifulSoup)\n"
      ]
    }
  ]
}